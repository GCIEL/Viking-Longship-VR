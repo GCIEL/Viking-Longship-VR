{
 "cells": [
  {
   "cell_type": "code",
   "execution_count": 5,
   "metadata": {},
   "outputs": [],
   "source": [
    "import pandas as pd\n",
    "import random\n",
    "\n",
    "# Define the pieces\n",
    "pieces = [\n",
    "    \"Beam Pillar\", \"Blade\", \"Brace - Inside\", \"Brace - Outside\", \"Cross Beam\", \"Deck Board\",\n",
    "    \"Front Stanchion Pole Base\", \"Front Stanchion Base\", \"Front Stanchion Cross Piece\",\n",
    "    \"Front Stanchion Fish\", \"Front Stanchion Post\", \"Front Stancion Base Hole\", \"Gunwale\",\n",
    "    \"Hull Mounting\", \"Keel\", \"Keelson Mesh\", \"Knee\", \"Upper Knee\", \"Mast\", \"Mast Lock\",\n",
    "    \"Mast Stanchion Cross Piece\", \"Mast Stanchion\", \"Mastfish\", \"Mastfish Base\", \"Neck\", \"Oar\",\n",
    "    \"Rear Stanchion Base\", \"Rear Stanchion Cross Piece\", \"Rear Stanchion Fish\",\n",
    "    \"Rear Stanchion Pole Base\", \"Rear Stanchion Post\", \"Rear Stancion Base Hole\", \"Rib\", \"Strake\", \"Tiller\"\n",
    "]\n",
    "\n",
    "# Define the number of players\n",
    "players = [f'player{i}' for i in range(11)]\n",
    "\n",
    "# Create an empty DataFrame\n",
    "df = pd.DataFrame(columns=[\n",
    "    'playerID', 'piece', 'completion_time', 'distance', 'watched_video', 'percentage_video', 'piece_look_time', 'hint'\n",
    "])\n",
    "\n",
    "# Populate the DataFrame\n",
    "for player in players:\n",
    "    for piece in pieces:\n",
    "        completion_time = random.randint(1, 10)\n",
    "        data = {\n",
    "            'playerID': player,\n",
    "            'piece': piece,\n",
    "            'completion_time': random.uniform(10, 30),\n",
    "            'distance': random.uniform(1, 4),\n",
    "            'watched_video': random.choice([True, False]),\n",
    "            'percentage_video': random.randint(0, 100),\n",
    "            #make sure piece_look_time is less than the completion_time\n",
    "            'piece_look_time': random.uniform(1, completion_time),\n",
    "            'hint': random.choice([True, False])\n",
    "        }\n",
    "        df = df.append(data, ignore_index=True)\n",
    "\n",
    "# Show a sample of the generated DataFrame\n",
    "df.to_csv(\"viking_ship_data.csv\")\n"
   ]
  },
  {
   "cell_type": "code",
   "execution_count": 6,
   "metadata": {},
   "outputs": [
    {
     "data": {
      "text/html": "<div>\n<style scoped>\n    .dataframe tbody tr th:only-of-type {\n        vertical-align: middle;\n    }\n\n    .dataframe tbody tr th {\n        vertical-align: top;\n    }\n\n    .dataframe thead th {\n        text-align: right;\n    }\n</style>\n<table border=\"1\" class=\"dataframe\">\n  <thead>\n    <tr style=\"text-align: right;\">\n      <th></th>\n      <th>playerID</th>\n      <th>piece</th>\n      <th>completion_time</th>\n      <th>distance</th>\n      <th>watched_video</th>\n      <th>percentage_video</th>\n      <th>piece_look_time</th>\n      <th>hint</th>\n    </tr>\n  </thead>\n  <tbody>\n    <tr>\n      <th>0</th>\n      <td>player0</td>\n      <td>Beam Pillar</td>\n      <td>25.963495</td>\n      <td>3.650075</td>\n      <td>True</td>\n      <td>55</td>\n      <td>1.359243</td>\n      <td>False</td>\n    </tr>\n    <tr>\n      <th>1</th>\n      <td>player0</td>\n      <td>Blade</td>\n      <td>25.930501</td>\n      <td>3.668272</td>\n      <td>True</td>\n      <td>36</td>\n      <td>1.844307</td>\n      <td>True</td>\n    </tr>\n    <tr>\n      <th>2</th>\n      <td>player0</td>\n      <td>Brace - Inside</td>\n      <td>19.473372</td>\n      <td>2.838011</td>\n      <td>True</td>\n      <td>90</td>\n      <td>1.000000</td>\n      <td>False</td>\n    </tr>\n    <tr>\n      <th>3</th>\n      <td>player0</td>\n      <td>Brace - Outside</td>\n      <td>19.412859</td>\n      <td>3.787213</td>\n      <td>False</td>\n      <td>29</td>\n      <td>1.000000</td>\n      <td>False</td>\n    </tr>\n    <tr>\n      <th>4</th>\n      <td>player0</td>\n      <td>Cross Beam</td>\n      <td>13.818365</td>\n      <td>3.344375</td>\n      <td>False</td>\n      <td>96</td>\n      <td>3.383683</td>\n      <td>False</td>\n    </tr>\n    <tr>\n      <th>...</th>\n      <td>...</td>\n      <td>...</td>\n      <td>...</td>\n      <td>...</td>\n      <td>...</td>\n      <td>...</td>\n      <td>...</td>\n      <td>...</td>\n    </tr>\n    <tr>\n      <th>380</th>\n      <td>player10</td>\n      <td>Rear Stanchion Post</td>\n      <td>13.570497</td>\n      <td>2.421610</td>\n      <td>True</td>\n      <td>23</td>\n      <td>3.667110</td>\n      <td>True</td>\n    </tr>\n    <tr>\n      <th>381</th>\n      <td>player10</td>\n      <td>Rear Stancion Base Hole</td>\n      <td>10.014885</td>\n      <td>2.312314</td>\n      <td>False</td>\n      <td>99</td>\n      <td>2.737765</td>\n      <td>True</td>\n    </tr>\n    <tr>\n      <th>382</th>\n      <td>player10</td>\n      <td>Rib</td>\n      <td>28.167434</td>\n      <td>2.099058</td>\n      <td>False</td>\n      <td>15</td>\n      <td>7.429928</td>\n      <td>True</td>\n    </tr>\n    <tr>\n      <th>383</th>\n      <td>player10</td>\n      <td>Strake</td>\n      <td>18.214603</td>\n      <td>1.831927</td>\n      <td>False</td>\n      <td>22</td>\n      <td>4.289604</td>\n      <td>True</td>\n    </tr>\n    <tr>\n      <th>384</th>\n      <td>player10</td>\n      <td>Tiller</td>\n      <td>27.014394</td>\n      <td>2.677682</td>\n      <td>True</td>\n      <td>59</td>\n      <td>1.000000</td>\n      <td>False</td>\n    </tr>\n  </tbody>\n</table>\n<p>385 rows × 8 columns</p>\n</div>",
      "text/plain": "     playerID                    piece  completion_time  distance  \\\n0     player0              Beam Pillar        25.963495  3.650075   \n1     player0                    Blade        25.930501  3.668272   \n2     player0           Brace - Inside        19.473372  2.838011   \n3     player0          Brace - Outside        19.412859  3.787213   \n4     player0               Cross Beam        13.818365  3.344375   \n..        ...                      ...              ...       ...   \n380  player10      Rear Stanchion Post        13.570497  2.421610   \n381  player10  Rear Stancion Base Hole        10.014885  2.312314   \n382  player10                      Rib        28.167434  2.099058   \n383  player10                   Strake        18.214603  1.831927   \n384  player10                   Tiller        27.014394  2.677682   \n\n    watched_video percentage_video  piece_look_time   hint  \n0            True               55         1.359243  False  \n1            True               36         1.844307   True  \n2            True               90         1.000000  False  \n3           False               29         1.000000  False  \n4           False               96         3.383683  False  \n..            ...              ...              ...    ...  \n380          True               23         3.667110   True  \n381         False               99         2.737765   True  \n382         False               15         7.429928   True  \n383         False               22         4.289604   True  \n384          True               59         1.000000  False  \n\n[385 rows x 8 columns]"
     },
     "execution_count": 6,
     "metadata": {},
     "output_type": "execute_result"
    }
   ],
   "source": [
    "df"
   ]
  },
  {
   "cell_type": "code",
   "execution_count": null,
   "metadata": {},
   "outputs": [],
   "source": []
  }
 ],
 "metadata": {
  "kernelspec": {
   "display_name": "Python 3.8.5 64-bit ('base': conda)",
   "name": "python385jvsc74a57bd0162da7e5732bdefb038068ab93a66d3ac32f1d7a97fd04e499d4bf6de9b0aabd"
  },
  "language_info": {
   "codemirror_mode": {
    "name": "ipython",
    "version": 3
   },
   "file_extension": ".py",
   "mimetype": "text/x-python",
   "name": "python",
   "nbconvert_exporter": "python",
   "pygments_lexer": "ipython3",
   "version": "3.8.5"
  },
  "metadata": {
   "interpreter": {
    "hash": "162da7e5732bdefb038068ab93a66d3ac32f1d7a97fd04e499d4bf6de9b0aabd"
   }
  },
  "orig_nbformat": 2
 },
 "nbformat": 4,
 "nbformat_minor": 2
}